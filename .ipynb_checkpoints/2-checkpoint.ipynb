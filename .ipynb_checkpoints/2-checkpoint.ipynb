{
 "cells": [
  {
   "cell_type": "code",
   "execution_count": 1,
   "metadata": {},
   "outputs": [
    {
     "name": "stdout",
     "output_type": "stream",
     "text": [
      "b'{\\n  \"id\": \"2e9014bd-2164-459d-b4a8-bd1b9ce633a7\",\\n  \"timestamp\": \"2018-03-27T13:07:41.396Z\",\\n  \"lang\": \"en\",\\n  \"result\": {\\n    \"source\": \"domains\",\\n    \"resolvedQuery\": \"Hello\",\\n    \"action\": \"smalltalk.greetings.hello\",\\n    \"actionIncomplete\": false,\\n    \"parameters\": {},\\n    \"contexts\": [],\\n    \"metadata\": {},\\n    \"fulfillment\": {\\n      \"speech\": \"Good day!\",\\n      \"messages\": [\\n        {\\n          \"type\": 0,\\n          \"speech\": \"Hello!\"\\n        }\\n      ]\\n    },\\n    \"score\": 1.0\\n  },\\n  \"status\": {\\n    \"code\": 200,\\n    \"errorType\": \"success\",\\n    \"webhookTimedOut\": false\\n  },\\n  \"sessionId\": \"1\"\\n}'\n"
     ]
    }
   ],
   "source": [
    "import os.path\n",
    "import sys\n",
    "\n",
    "try:\n",
    "    import apiai\n",
    "except ImportError:\n",
    "    sys.path.append(\n",
    "        os.path.join(os.path.dirname(os.path.realpath(__file__)), os.pardir)\n",
    "    )\n",
    "    import apiai\n",
    "\n",
    "import uuid\n",
    "\n",
    "CLIENT_ACCESS_TOKEN = '8ee5fc28852545958ba95a8bbcb8e1af'\n",
    "\n",
    "\n",
    "def main():\n",
    "    ai = apiai.ApiAI(CLIENT_ACCESS_TOKEN)\n",
    "\n",
    "    request = ai.text_request()\n",
    "\n",
    "    request.lang = 'en'  # optional, default value equal 'en'\n",
    "\n",
    "    request.session_id = \"1\"#\"<SESSION ID, UNIQUE FOR EACH USER>\"\n",
    "\n",
    "    request.query = \"Hello\"\n",
    "\n",
    "    response = request.getresponse()\n",
    "\n",
    "    print (response.read())\n",
    "\n",
    "\n",
    "if __name__ == '__main__':\n",
    "    main()\n"
   ]
  },
  {
   "cell_type": "code",
   "execution_count": 2,
   "metadata": {},
   "outputs": [
    {
     "name": "stdout",
     "output_type": "stream",
     "text": [
      "b'{\\n  \"id\": \"00e47c7f-506b-42fe-9d93-ac66de22129d\",\\n  \"timestamp\": \"2018-03-27T13:07:57.543Z\",\\n  \"lang\": \"en\",\\n  \"result\": {\\n    \"source\": \"domains\",\\n    \"resolvedQuery\": \"Hello\",\\n    \"action\": \"smalltalk.greetings.hello\",\\n    \"actionIncomplete\": false,\\n    \"parameters\": {},\\n    \"contexts\": [],\\n    \"metadata\": {},\\n    \"fulfillment\": {\\n      \"speech\": \"Hey!\",\\n      \"messages\": [\\n        {\\n          \"type\": 0,\\n          \"speech\": \"Hi there, friend!\"\\n        }\\n      ]\\n    },\\n    \"score\": 1.0\\n  },\\n  \"status\": {\\n    \"code\": 200,\\n    \"errorType\": \"success\",\\n    \"webhookTimedOut\": false\\n  },\\n  \"sessionId\": \"1\"\\n}'\n"
     ]
    }
   ],
   "source": [
    "main()"
   ]
  }
 ],
 "metadata": {
  "kernelspec": {
   "display_name": "python 3",
   "language": "python",
   "name": "python3"
  },
  "language_info": {
   "codemirror_mode": {
    "name": "ipython",
    "version": 3
   },
   "file_extension": ".py",
   "mimetype": "text/x-python",
   "name": "python",
   "nbconvert_exporter": "python",
   "pygments_lexer": "ipython3",
   "version": "3.6.4"
  },
  "toc": {
   "nav_menu": {},
   "number_sections": true,
   "sideBar": true,
   "skip_h1_title": false,
   "toc_cell": false,
   "toc_position": {},
   "toc_section_display": "block",
   "toc_window_display": false
  },
  "varInspector": {
   "cols": {
    "lenName": 16,
    "lenType": 16,
    "lenVar": 40
   },
   "kernels_config": {
    "python": {
     "delete_cmd_postfix": "",
     "delete_cmd_prefix": "del ",
     "library": "var_list.py",
     "varRefreshCmd": "print(var_dic_list())"
    },
    "r": {
     "delete_cmd_postfix": ") ",
     "delete_cmd_prefix": "rm(",
     "library": "var_list.r",
     "varRefreshCmd": "cat(var_dic_list()) "
    }
   },
   "types_to_exclude": [
    "module",
    "function",
    "builtin_function_or_method",
    "instance",
    "_Feature"
   ],
   "window_display": false
  }
 },
 "nbformat": 4,
 "nbformat_minor": 2
}
